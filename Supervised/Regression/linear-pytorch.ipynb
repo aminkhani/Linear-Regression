{
 "cells": [
  {
   "cell_type": "code",
   "execution_count": 1,
   "metadata": {},
   "outputs": [],
   "source": [
    "import torch\n",
    "from torch.nn import Linear\n",
    "import torch.nn as nn"
   ]
  },
  {
   "cell_type": "code",
   "execution_count": 7,
   "metadata": {},
   "outputs": [
    {
     "data": {
      "image/png": "[encoded data removed]",
      "text/plain": [
       "<Figure size 432x288 with 1 Axes>"
      ]
     },
     "metadata": {
      "needs_background": "light"
     },
     "output_type": "display_data"
    }
   ],
   "source": [
    "x = torch.randn(100,1)*10\n",
    "y = x + torch.randn(100,1)*3\n",
    "import matplotlib.pyplot as plt\n",
    "plt.plot(x ,y, 'x')\n",
    "plt.ylabel('y')\n",
    "plt.xlabel('x');"
   ]
  },
  {
   "cell_type": "code",
   "execution_count": 73,
   "metadata": {},
   "outputs": [],
   "source": [
    "class LR(nn.Module):\n",
    "  def __init__(self,in_feature, out_feature):\n",
    "    super().__init__()\n",
    "    self.linear = nn.Linear(in_feature,out_feature)\n",
    "  def forward(self,x):\n",
    "    return self.linear(x)"
   ]
  },
  {
   "cell_type": "code",
   "execution_count": 80,
   "metadata": {},
   "outputs": [],
   "source": [
    "torch.manual_seed(1)\n",
    "model = LR(1, 1)"
   ]
  },
  {
   "cell_type": "code",
   "execution_count": 81,
   "metadata": {},
   "outputs": [
    {
     "data": {
      "text/plain": [
       "LR(\n",
       "  (linear): Linear(in_features=1, out_features=1, bias=True)\n",
       ")"
      ]
     },
     "execution_count": 81,
     "metadata": {},
     "output_type": "execute_result"
    }
   ],
   "source": [
    "model"
   ]
  },
  {
   "cell_type": "code",
   "execution_count": 82,
   "metadata": {},
   "outputs": [],
   "source": [
    "[w,b] = model.parameters()"
   ]
  },
  {
   "cell_type": "code",
   "execution_count": 83,
   "metadata": {},
   "outputs": [
    {
     "name": "stdout",
     "output_type": "stream",
     "text": [
      "Parameter containing:\n",
      "tensor([[0.5153]], requires_grad=True)\n",
      "Parameter containing:\n",
      "tensor([-0.4414], requires_grad=True)\n"
     ]
    }
   ],
   "source": [
    "print(w)\n",
    "print(b)"
   ]
  },
  {
   "cell_type": "code",
   "execution_count": 91,
   "metadata": {},
   "outputs": [
    {
     "data": {
      "text/plain": [
       "(0.5152631998062134, -0.44137823581695557)"
      ]
     },
     "execution_count": 91,
     "metadata": {},
     "output_type": "execute_result"
    }
   ],
   "source": [
    "w.item(), b.item()"
   ]
  },
  {
   "cell_type": "code",
   "execution_count": 94,
   "metadata": {},
   "outputs": [],
   "source": [
    "def get_params():\n",
    "    return (w.item(), b.item())"
   ]
  },
  {
   "cell_type": "code",
   "execution_count": 95,
   "metadata": {},
   "outputs": [
    {
     "data": {
      "text/plain": [
       "(0.5152631998062134, -0.44137823581695557)"
      ]
     },
     "execution_count": 95,
     "metadata": {},
     "output_type": "execute_result"
    }
   ],
   "source": [
    "get_params()"
   ]
  },
  {
   "cell_type": "code",
   "execution_count": 96,
   "metadata": {},
   "outputs": [],
   "source": [
    "import numpy as np"
   ]
  },
  {
   "cell_type": "code",
   "execution_count": 97,
   "metadata": {},
   "outputs": [
    {
     "data": {
      "image/png": "[encoded data removed]",
      "text/plain": [
       "<Figure size 432x288 with 1 Axes>"
      ]
     },
     "metadata": {
      "needs_background": "light"
     },
     "output_type": "display_data"
    }
   ],
   "source": [
    "def plot_fit():\n",
    "    \n",
    "\n",
    "    w1, b1 = get_params()\n",
    "    x1 = np.array([-30,30])\n",
    "    y1 = w1 * x1 + b1\n",
    "    plt.plot(x1, y1, 'r')\n",
    "    plt.plot(x, y, 'bo')\n",
    "    \n",
    "plot_fit()"
   ]
  },
  {
   "cell_type": "code",
   "execution_count": 98,
   "metadata": {},
   "outputs": [
    {
     "data": {
      "text/plain": [
       "tensor([[  0.5388],\n",
       "        [ 13.6262],\n",
       "        [  1.0429],\n",
       "        [ -8.1856],\n",
       "        [  2.7310],\n",
       "        [ 19.2827],\n",
       "        [ 11.8422],\n",
       "        [-13.1284],\n",
       "        [ -6.7582],\n",
       "        [ -6.4922]])"
      ]
     },
     "execution_count": 98,
     "metadata": {},
     "output_type": "execute_result"
    }
   ],
   "source": [
    "x[:10]"
   ]
  },
  {
   "cell_type": "code",
   "execution_count": 99,
   "metadata": {},
   "outputs": [
    {
     "data": {
      "text/plain": [
       "tensor([[-0.1638],\n",
       "        [ 6.5797],\n",
       "        [ 0.0960],\n",
       "        [-4.6591],\n",
       "        [ 0.9658],\n",
       "        [ 9.4943],\n",
       "        [ 5.6605],\n",
       "        [-7.2060],\n",
       "        [-3.9237],\n",
       "        [-3.7866]], grad_fn=<SliceBackward>)"
      ]
     },
     "execution_count": 99,
     "metadata": {},
     "output_type": "execute_result"
    }
   ],
   "source": [
    "ypred = model.forward(x)\n",
    "ypred[:10]\n"
   ]
  },
  {
   "cell_type": "code",
   "execution_count": 100,
   "metadata": {
    "scrolled": true
   },
   "outputs": [
    {
     "data": {
      "text/plain": [
       "tensor([[ -3.0932],\n",
       "        [ 21.1527],\n",
       "        [  1.9592],\n",
       "        [ -1.4399],\n",
       "        [ -1.7732],\n",
       "        [ 21.5791],\n",
       "        [  9.2196],\n",
       "        [-15.6274],\n",
       "        [ -6.7886],\n",
       "        [ -6.6873]])"
      ]
     },
     "execution_count": 100,
     "metadata": {},
     "output_type": "execute_result"
    }
   ],
   "source": [
    "y[:10]"
   ]
  },
  {
   "cell_type": "code",
   "execution_count": 101,
   "metadata": {},
   "outputs": [
    {
     "data": {
      "text/plain": [
       "tensor(29.3806, grad_fn=<MseLossBackward>)"
      ]
     },
     "execution_count": 101,
     "metadata": {},
     "output_type": "execute_result"
    }
   ],
   "source": [
    "criterion(ypred, y)"
   ]
  },
  {
   "cell_type": "code",
   "execution_count": 54,
   "metadata": {},
   "outputs": [
    {
     "data": {
      "text/plain": [
       "[tensor(29.3806, grad_fn=<MseLossBackward>),\n",
       " tensor(24.5130, grad_fn=<MseLossBackward>),\n",
       " tensor(20.7941, grad_fn=<MseLossBackward>),\n",
       " tensor(17.9526, grad_fn=<MseLossBackward>),\n",
       " tensor(15.7813, grad_fn=<MseLossBackward>),\n",
       " tensor(14.1220, grad_fn=<MseLossBackward>),\n",
       " tensor(12.8536, grad_fn=<MseLossBackward>),\n",
       " tensor(11.8840, grad_fn=<MseLossBackward>),\n",
       " tensor(11.1425, grad_fn=<MseLossBackward>),\n",
       " tensor(10.5754, grad_fn=<MseLossBackward>),\n",
       " tensor(10.1414, grad_fn=<MseLossBackward>),\n",
       " tensor(9.8091, grad_fn=<MseLossBackward>),\n",
       " tensor(9.5546, grad_fn=<MseLossBackward>),\n",
       " tensor(9.3595, grad_fn=<MseLossBackward>),\n",
       " tensor(9.2098, grad_fn=<MseLossBackward>),\n",
       " tensor(9.0948, grad_fn=<MseLossBackward>),\n",
       " tensor(9.0063, grad_fn=<MseLossBackward>),\n",
       " tensor(8.9381, grad_fn=<MseLossBackward>),\n",
       " tensor(8.8855, grad_fn=<MseLossBackward>),\n",
       " tensor(8.8447, grad_fn=<MseLossBackward>),\n",
       " tensor(8.8130, grad_fn=<MseLossBackward>),\n",
       " tensor(8.7882, grad_fn=<MseLossBackward>),\n",
       " tensor(8.7689, grad_fn=<MseLossBackward>),\n",
       " tensor(8.7536, grad_fn=<MseLossBackward>),\n",
       " tensor(8.7414, grad_fn=<MseLossBackward>),\n",
       " tensor(8.7317, grad_fn=<MseLossBackward>),\n",
       " tensor(8.7239, grad_fn=<MseLossBackward>),\n",
       " tensor(8.7175, grad_fn=<MseLossBackward>),\n",
       " tensor(8.7122, grad_fn=<MseLossBackward>),\n",
       " tensor(8.7078, grad_fn=<MseLossBackward>),\n",
       " tensor(8.7041, grad_fn=<MseLossBackward>),\n",
       " tensor(8.7009, grad_fn=<MseLossBackward>),\n",
       " tensor(8.6981, grad_fn=<MseLossBackward>),\n",
       " tensor(8.6956, grad_fn=<MseLossBackward>),\n",
       " tensor(8.6935, grad_fn=<MseLossBackward>),\n",
       " tensor(8.6915, grad_fn=<MseLossBackward>),\n",
       " tensor(8.6897, grad_fn=<MseLossBackward>),\n",
       " tensor(8.6881, grad_fn=<MseLossBackward>),\n",
       " tensor(8.6866, grad_fn=<MseLossBackward>),\n",
       " tensor(8.6852, grad_fn=<MseLossBackward>),\n",
       " tensor(8.6839, grad_fn=<MseLossBackward>),\n",
       " tensor(8.6827, grad_fn=<MseLossBackward>),\n",
       " tensor(8.6815, grad_fn=<MseLossBackward>),\n",
       " tensor(8.6804, grad_fn=<MseLossBackward>),\n",
       " tensor(8.6793, grad_fn=<MseLossBackward>),\n",
       " tensor(8.6783, grad_fn=<MseLossBackward>),\n",
       " tensor(8.6774, grad_fn=<MseLossBackward>),\n",
       " tensor(8.6765, grad_fn=<MseLossBackward>),\n",
       " tensor(8.6756, grad_fn=<MseLossBackward>),\n",
       " tensor(8.6748, grad_fn=<MseLossBackward>),\n",
       " tensor(8.6740, grad_fn=<MseLossBackward>),\n",
       " tensor(8.6732, grad_fn=<MseLossBackward>),\n",
       " tensor(8.6725, grad_fn=<MseLossBackward>),\n",
       " tensor(8.6718, grad_fn=<MseLossBackward>),\n",
       " tensor(8.6711, grad_fn=<MseLossBackward>),\n",
       " tensor(8.6705, grad_fn=<MseLossBackward>),\n",
       " tensor(8.6699, grad_fn=<MseLossBackward>),\n",
       " tensor(8.6693, grad_fn=<MseLossBackward>),\n",
       " tensor(8.6687, grad_fn=<MseLossBackward>),\n",
       " tensor(8.6681, grad_fn=<MseLossBackward>),\n",
       " tensor(8.6676, grad_fn=<MseLossBackward>),\n",
       " tensor(8.6671, grad_fn=<MseLossBackward>),\n",
       " tensor(8.6666, grad_fn=<MseLossBackward>),\n",
       " tensor(8.6662, grad_fn=<MseLossBackward>),\n",
       " tensor(8.6657, grad_fn=<MseLossBackward>),\n",
       " tensor(8.6653, grad_fn=<MseLossBackward>),\n",
       " tensor(8.6649, grad_fn=<MseLossBackward>),\n",
       " tensor(8.6645, grad_fn=<MseLossBackward>),\n",
       " tensor(8.6641, grad_fn=<MseLossBackward>),\n",
       " tensor(8.6637, grad_fn=<MseLossBackward>),\n",
       " tensor(8.6634, grad_fn=<MseLossBackward>),\n",
       " tensor(8.6630, grad_fn=<MseLossBackward>),\n",
       " tensor(8.6627, grad_fn=<MseLossBackward>),\n",
       " tensor(8.6624, grad_fn=<MseLossBackward>),\n",
       " tensor(8.6621, grad_fn=<MseLossBackward>),\n",
       " tensor(8.6618, grad_fn=<MseLossBackward>),\n",
       " tensor(8.6615, grad_fn=<MseLossBackward>),\n",
       " tensor(8.6613, grad_fn=<MseLossBackward>),\n",
       " tensor(8.6610, grad_fn=<MseLossBackward>),\n",
       " tensor(8.6608, grad_fn=<MseLossBackward>),\n",
       " tensor(8.6605, grad_fn=<MseLossBackward>),\n",
       " tensor(8.6603, grad_fn=<MseLossBackward>),\n",
       " tensor(8.6601, grad_fn=<MseLossBackward>),\n",
       " tensor(8.6599, grad_fn=<MseLossBackward>),\n",
       " tensor(8.6597, grad_fn=<MseLossBackward>),\n",
       " tensor(8.6595, grad_fn=<MseLossBackward>),\n",
       " tensor(8.6593, grad_fn=<MseLossBackward>),\n",
       " tensor(8.6591, grad_fn=<MseLossBackward>),\n",
       " tensor(8.6590, grad_fn=<MseLossBackward>),\n",
       " tensor(8.6588, grad_fn=<MseLossBackward>),\n",
       " tensor(8.6587, grad_fn=<MseLossBackward>),\n",
       " tensor(8.6585, grad_fn=<MseLossBackward>),\n",
       " tensor(8.6584, grad_fn=<MseLossBackward>),\n",
       " tensor(8.6582, grad_fn=<MseLossBackward>),\n",
       " tensor(8.6581, grad_fn=<MseLossBackward>),\n",
       " tensor(8.6580, grad_fn=<MseLossBackward>),\n",
       " tensor(8.6578, grad_fn=<MseLossBackward>),\n",
       " tensor(8.6577, grad_fn=<MseLossBackward>),\n",
       " tensor(8.6576, grad_fn=<MseLossBackward>),\n",
       " tensor(8.6575, grad_fn=<MseLossBackward>)]"
      ]
     },
     "execution_count": 54,
     "metadata": {},
     "output_type": "execute_result"
    }
   ],
   "source": [
    "losses"
   ]
  },
  {
   "cell_type": "code",
   "execution_count": 44,
   "metadata": {},
   "outputs": [],
   "source": [
    "criterion = nn.MSELoss()\n",
    "optimizer = torch.optim.SGD(model.parameters(),lr = 0.01)"
   ]
  },
  {
   "cell_type": "code",
   "execution_count": 45,
   "metadata": {},
   "outputs": [
    {
     "name": "stdout",
     "output_type": "stream",
     "text": [
      "epoch is 0 and the loss is 29.380569458007812\n",
      "epoch is 1 and the loss is 24.512958526611328\n",
      "epoch is 2 and the loss is 20.7940731048584\n",
      "epoch is 3 and the loss is 17.95260238647461\n",
      "epoch is 4 and the loss is 15.781328201293945\n",
      "epoch is 5 and the loss is 14.121973037719727\n",
      "epoch is 6 and the loss is 12.85364055633545\n",
      "epoch is 7 and the loss is 11.88399887084961\n",
      "epoch is 8 and the loss is 11.142533302307129\n",
      "epoch is 9 and the loss is 10.57537841796875\n",
      "epoch is 10 and the loss is 10.141386032104492\n",
      "epoch is 11 and the loss is 9.809136390686035\n",
      "epoch is 12 and the loss is 9.554621696472168\n",
      "epoch is 13 and the loss is 9.359511375427246\n",
      "epoch is 14 and the loss is 9.209800720214844\n",
      "epoch is 15 and the loss is 9.0947904586792\n",
      "epoch is 16 and the loss is 9.00631332397461\n",
      "epoch is 17 and the loss is 8.938124656677246\n",
      "epoch is 18 and the loss is 8.885456085205078\n",
      "epoch is 19 and the loss is 8.844666481018066\n",
      "epoch is 20 and the loss is 8.812969207763672\n",
      "epoch is 21 and the loss is 8.788240432739258\n",
      "epoch is 22 and the loss is 8.768854141235352\n",
      "epoch is 23 and the loss is 8.753565788269043\n",
      "epoch is 24 and the loss is 8.741429328918457\n",
      "epoch is 25 and the loss is 8.731717109680176\n",
      "epoch is 26 and the loss is 8.723873138427734\n",
      "epoch is 27 and the loss is 8.717473030090332\n",
      "epoch is 28 and the loss is 8.712194442749023\n",
      "epoch is 29 and the loss is 8.707785606384277\n",
      "epoch is 30 and the loss is 8.704056739807129\n",
      "epoch is 31 and the loss is 8.700860977172852\n",
      "epoch is 32 and the loss is 8.698086738586426\n",
      "epoch is 33 and the loss is 8.695647239685059\n",
      "epoch is 34 and the loss is 8.693476676940918\n",
      "epoch is 35 and the loss is 8.691522598266602\n",
      "epoch is 36 and the loss is 8.689746856689453\n",
      "epoch is 37 and the loss is 8.688117027282715\n",
      "epoch is 38 and the loss is 8.686612129211426\n",
      "epoch is 39 and the loss is 8.685210227966309\n",
      "epoch is 40 and the loss is 8.683897018432617\n",
      "epoch is 41 and the loss is 8.682663917541504\n",
      "epoch is 42 and the loss is 8.681497573852539\n",
      "epoch is 43 and the loss is 8.680394172668457\n",
      "epoch is 44 and the loss is 8.679346084594727\n",
      "epoch is 45 and the loss is 8.678348541259766\n",
      "epoch is 46 and the loss is 8.677395820617676\n",
      "epoch is 47 and the loss is 8.67648696899414\n",
      "epoch is 48 and the loss is 8.675619125366211\n",
      "epoch is 49 and the loss is 8.674786567687988\n",
      "epoch is 50 and the loss is 8.673990249633789\n",
      "epoch is 51 and the loss is 8.673227310180664\n",
      "epoch is 52 and the loss is 8.672494888305664\n",
      "epoch is 53 and the loss is 8.671794891357422\n",
      "epoch is 54 and the loss is 8.671121597290039\n",
      "epoch is 55 and the loss is 8.670475006103516\n",
      "epoch is 56 and the loss is 8.669855117797852\n",
      "epoch is 57 and the loss is 8.669261932373047\n",
      "epoch is 58 and the loss is 8.668689727783203\n",
      "epoch is 59 and the loss is 8.668142318725586\n",
      "epoch is 60 and the loss is 8.66761589050293\n",
      "epoch is 61 and the loss is 8.667110443115234\n",
      "epoch is 62 and the loss is 8.6666259765625\n",
      "epoch is 63 and the loss is 8.666158676147461\n",
      "epoch is 64 and the loss is 8.665711402893066\n",
      "epoch is 65 and the loss is 8.665281295776367\n",
      "epoch is 66 and the loss is 8.66486930847168\n",
      "epoch is 67 and the loss is 8.664473533630371\n",
      "epoch is 68 and the loss is 8.664093017578125\n",
      "epoch is 69 and the loss is 8.663726806640625\n",
      "epoch is 70 and the loss is 8.663374900817871\n",
      "epoch is 71 and the loss is 8.663039207458496\n",
      "epoch is 72 and the loss is 8.662714958190918\n",
      "epoch is 73 and the loss is 8.662405014038086\n",
      "epoch is 74 and the loss is 8.662105560302734\n",
      "epoch is 75 and the loss is 8.661818504333496\n",
      "epoch is 76 and the loss is 8.661543846130371\n",
      "epoch is 77 and the loss is 8.661279678344727\n",
      "epoch is 78 and the loss is 8.661025047302246\n",
      "epoch is 79 and the loss is 8.660780906677246\n",
      "epoch is 80 and the loss is 8.66054630279541\n",
      "epoch is 81 and the loss is 8.660321235656738\n",
      "epoch is 82 and the loss is 8.66010570526123\n",
      "epoch is 83 and the loss is 8.659897804260254\n",
      "epoch is 84 and the loss is 8.659698486328125\n",
      "epoch is 85 and the loss is 8.659506797790527\n",
      "epoch is 86 and the loss is 8.659323692321777\n",
      "epoch is 87 and the loss is 8.659146308898926\n",
      "epoch is 88 and the loss is 8.658975601196289\n",
      "epoch is 89 and the loss is 8.6588134765625\n",
      "epoch is 90 and the loss is 8.65865707397461\n",
      "epoch is 91 and the loss is 8.658507347106934\n",
      "epoch is 92 and the loss is 8.658363342285156\n",
      "epoch is 93 and the loss is 8.658224105834961\n",
      "epoch is 94 and the loss is 8.65809154510498\n",
      "epoch is 95 and the loss is 8.657962799072266\n",
      "epoch is 96 and the loss is 8.65783977508545\n",
      "epoch is 97 and the loss is 8.657723426818848\n",
      "epoch is 98 and the loss is 8.657609939575195\n",
      "epoch is 99 and the loss is 8.657501220703125\n"
     ]
    }
   ],
   "source": [
    "epochs = 100\n",
    "losses = []\n",
    "for i in range(epochs + 1):\n",
    "    y_pred = model.forward(x)\n",
    "    loss = criterion(y_pred, y)\n",
    "    print('epoch is {} and the loss is {}'.format(i,loss.item()))\n",
    "    losses.append(loss)\n",
    "    optimizer.zero_grad()\n",
    "    loss.backward()\n",
    "    optimizer.step()"
   ]
  },
  {
   "cell_type": "code",
   "execution_count": 55,
   "metadata": {},
   "outputs": [
    {
     "data": {
      "text/plain": [
       "Text(0, 0.5, 'losses')"
      ]
     },
     "execution_count": 55,
     "metadata": {},
     "output_type": "execute_result"
    },
    {
     "data": {
      "image/png": "[encoded data removed]",
      "text/plain": [
       "<Figure size 432x288 with 1 Axes>"
      ]
     },
     "metadata": {
      "needs_background": "light"
     },
     "output_type": "display_data"
    }
   ],
   "source": [
    "plt.plot(range(epochs),losses)\n",
    "plt.xlabel('number of epochs')\n",
    "plt.ylabel('losses')"
   ]
  },
  {
   "cell_type": "code",
   "execution_count": 57,
   "metadata": {},
   "outputs": [
    {
     "data": {
      "image/png": "[encoded data removed]",
      "text/plain": [
       "<Figure size 432x288 with 1 Axes>"
      ]
     },
     "metadata": {
      "needs_background": "light"
     },
     "output_type": "display_data"
    }
   ],
   "source": [
    "plot_fit()"
   ]
  },
  {
   "cell_type": "code",
   "execution_count": 58,
   "metadata": {},
   "outputs": [
    {
     "data": {
      "text/plain": [
       "Parameter containing:\n",
       "tensor([[0.9837]], requires_grad=True)"
      ]
     },
     "execution_count": 58,
     "metadata": {},
     "output_type": "execute_result"
    }
   ],
   "source": [
    "w"
   ]
  },
  {
   "cell_type": "code",
   "execution_count": 59,
   "metadata": {},
   "outputs": [
    {
     "data": {
      "text/plain": [
       "Parameter containing:\n",
       "tensor([-0.1119], requires_grad=True)"
      ]
     },
     "execution_count": 59,
     "metadata": {},
     "output_type": "execute_result"
    }
   ],
   "source": [
    "b"
   ]
  },
  {
   "cell_type": "code",
   "execution_count": null,
   "metadata": {},
   "outputs": [],
   "source": []
  }
 ],
 "metadata": {
  "kernelspec": {
   "display_name": "Python 3",
   "language": "python",
   "name": "python3"
  },
  "language_info": {
   "codemirror_mode": {
    "name": "ipython",
    "version": 3
   },
   "file_extension": ".py",
   "mimetype": "text/x-python",
   "name": "python",
   "nbconvert_exporter": "python",
   "pygments_lexer": "ipython3",
   "version": "3.7.3"
  }
 },
 "nbformat": 4,
 "nbformat_minor": 2
}
